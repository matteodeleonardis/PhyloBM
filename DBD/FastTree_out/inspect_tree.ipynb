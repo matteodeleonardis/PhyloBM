{
 "cells": [
  {
   "cell_type": "code",
   "execution_count": 1,
   "id": "4ab52739-b296-4db3-8aea-5bb6aa1b8afb",
   "metadata": {},
   "outputs": [
    {
     "name": "stderr",
     "output_type": "stream",
     "text": [
      "\u001b[32m\u001b[1m  Activating\u001b[22m\u001b[39m project at `~/Projects/PhyloBM`\n"
     ]
    }
   ],
   "source": [
    "import Pkg\n",
    "Pkg.activate(\"/home/matteo/Projects/PhyloBM/\")"
   ]
  },
  {
   "cell_type": "code",
   "execution_count": 10,
   "id": "67b9d453-2ce8-494e-a242-c933deb297f0",
   "metadata": {},
   "outputs": [
    {
     "name": "stderr",
     "output_type": "stream",
     "text": [
      "/home/matteo/.local/lib/python3.10/site-packages/matplotlib/projections/__init__.py:63: UserWarning: Unable to import Axes3D. This may be due to multiple versions of Matplotlib being installed (e.g. as a system package and as a pip package). As a result, the 3D projection is not available.\n",
      "  warnings.warn(\"Unable to import Axes3D. This may be due to multiple versions of \"\n"
     ]
    }
   ],
   "source": [
    "using TreeTools, FastaIO, PyPlot"
   ]
  },
  {
   "cell_type": "code",
   "execution_count": 3,
   "id": "429fece5-832a-4f43-b114-2250253699b2",
   "metadata": {},
   "outputs": [],
   "source": [
    "dbd_fasta = readfasta(\"DBD_alignment.uniref90.cov80_clean_noduplicates.a2m\");\n",
    "dbd_fasta_dic = Dict()\n",
    "for (d,s) in dbd_fasta\n",
    "    push!(dbd_fasta_dic, d=> s)\n",
    "end"
   ]
  },
  {
   "cell_type": "code",
   "execution_count": 4,
   "id": "59e43675-3d04-4480-8041-9c7b2f06538c",
   "metadata": {},
   "outputs": [
    {
     "data": {
      "text/plain": [
       "Tree{TreeTools.EmptyData}: 26618 nodes, 13310 leaves"
      ]
     },
     "metadata": {},
     "output_type": "display_data"
    }
   ],
   "source": [
    "dbd_tree = read_tree(\"DBD_tree.nwk\")"
   ]
  },
  {
   "cell_type": "code",
   "execution_count": 8,
   "id": "8ab68166",
   "metadata": {},
   "outputs": [],
   "source": [
    "distances = map(x->distance(root(dbd_tree), x), leaves(dbd_tree));"
   ]
  },
  {
   "cell_type": "code",
   "execution_count": 12,
   "id": "811d8819",
   "metadata": {},
   "outputs": [
    {
     "data": {
      "image/png": "[encoded data removed]",
      "text/plain": [
       "Figure(PyObject <Figure size 640x480 with 1 Axes>)"
      ]
     },
     "metadata": {},
     "output_type": "display_data"
    }
   ],
   "source": [
    "figure()\n",
    "hist(distances, bins=50)\n",
    "gcf()"
   ]
  },
  {
   "cell_type": "code",
   "execution_count": 13,
   "id": "f462b0af",
   "metadata": {},
   "outputs": [
    {
     "data": {
      "text/plain": [
       "13310"
      ]
     },
     "metadata": {},
     "output_type": "display_data"
    }
   ],
   "source": [
    "length(leaves(dbd_tree))"
   ]
  },
  {
   "cell_type": "code",
   "execution_count": null,
   "id": "ed395df2-7087-4d0a-8a61-f90451ad13d0",
   "metadata": {},
   "outputs": [],
   "source": [
    "root(dbd_tree)"
   ]
  },
  {
   "cell_type": "code",
   "execution_count": null,
   "id": "f93e2f22-9da1-4ada-b068-8d0aef6ab5dc",
   "metadata": {},
   "outputs": [],
   "source": [
    "dbd_tree[\"UniRef90_A0A3Q3G8Z6/86-155\"]"
   ]
  },
  {
   "cell_type": "code",
   "execution_count": null,
   "id": "677fa087-4fa8-4db7-a6e8-039de9ce1fb5",
   "metadata": {},
   "outputs": [],
   "source": [
    "dbd_tree[\"UniRef90_G3Q2E4/130-205\"]"
   ]
  },
  {
   "cell_type": "code",
   "execution_count": null,
   "id": "1729531f-9e61-4d1d-9c44-bd853cde7b1c",
   "metadata": {},
   "outputs": [],
   "source": [
    "dbd_tree[\"0.000__YKnhVq1F\"]"
   ]
  },
  {
   "cell_type": "code",
   "execution_count": null,
   "id": "826d74af-a3c9-431e-a499-129328288442",
   "metadata": {},
   "outputs": [],
   "source": [
    "dbd_tree[\"UniRef90_A0A1A7Y4U2/103-178\"]"
   ]
  },
  {
   "cell_type": "code",
   "execution_count": null,
   "id": "1b93af1a-7b03-4fe0-84a9-ee53656c828a",
   "metadata": {},
   "outputs": [],
   "source": [
    "dbd_tree[\"0.000__APPMrYZM\"]"
   ]
  },
  {
   "cell_type": "code",
   "execution_count": null,
   "id": "0e8c0c54-ea47-4ae0-97eb-9098cd1637c1",
   "metadata": {},
   "outputs": [],
   "source": []
  }
 ],
 "metadata": {
  "kernelspec": {
   "display_name": "Julia 1.11.3",
   "language": "julia",
   "name": "julia-1.11"
  },
  "language_info": {
   "file_extension": ".jl",
   "mimetype": "application/julia",
   "name": "julia",
   "version": "1.11.3"
  }
 },
 "nbformat": 4,
 "nbformat_minor": 5
}
